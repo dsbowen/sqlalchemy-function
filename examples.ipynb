{
 "cells": [
  {
   "cell_type": "markdown",
   "metadata": {},
   "source": [
    "In the setup, we create a SQLAlchemy session, define a Parent model \n",
    "subclassing `FunctionRelator`, and a Function model subclassing \n",
    "`FunctionMixin`."
   ]
  },
  {
   "cell_type": "code",
   "execution_count": 1,
   "metadata": {
    "ExecuteTime": {
     "end_time": "2020-06-16T23:38:16.639459Z",
     "start_time": "2020-06-16T23:38:16.429180Z"
    }
   },
   "outputs": [],
   "source": [
    "from sqlalchemy_function import FunctionMixin, FunctionRelator\n",
    "\n",
    "# standard session creation\n",
    "from sqlalchemy import create_engine, Column, ForeignKey, Integer\n",
    "from sqlalchemy.orm import relationship, sessionmaker, scoped_session\n",
    "from sqlalchemy.ext.declarative import declarative_base\n",
    "\n",
    "engine = create_engine('sqlite:///:memory:')\n",
    "session_factory = sessionmaker(bind=engine)\n",
    "Session = scoped_session(session_factory)\n",
    "session = Session()\n",
    "Base = declarative_base()\n",
    "\n",
    "# subclass `FunctionRelator` for models with a relationship to Function models\n",
    "class Parent(FunctionRelator, Base):\n",
    "    __tablename__ = 'parent'\n",
    "    id = Column(Integer, primary_key=True)\n",
    "    functions = relationship('Function', backref='parent')\n",
    "\n",
    "# subclass `FunctionMixin` to define a Function model\n",
    "class Function(FunctionMixin, Base):\n",
    "    __tablename__ = 'function'\n",
    "    id = Column(Integer, primary_key=True)\n",
    "    parent_id = Column(Integer, ForeignKey('parent.id'))\n",
    "\n",
    "Base.metadata.create_all(engine)"
   ]
  },
  {
   "cell_type": "code",
   "execution_count": 2,
   "metadata": {
    "ExecuteTime": {
     "end_time": "2020-06-16T23:38:16.649669Z",
     "start_time": "2020-06-16T23:38:16.641274Z"
    }
   },
   "outputs": [],
   "source": [
    "def foo(*args, **kwargs):\n",
    "    print('My args are', args)\n",
    "    print('My kwargs are', kwargs)\n",
    "    return 'return value'"
   ]
  },
  {
   "cell_type": "code",
   "execution_count": 3,
   "metadata": {
    "ExecuteTime": {
     "end_time": "2020-06-16T23:38:16.719839Z",
     "start_time": "2020-06-16T23:38:16.654538Z"
    }
   },
   "outputs": [
    {
     "name": "stdout",
     "output_type": "stream",
     "text": [
      "My args are ('hello world',)\n",
      "My kwargs are {}\n"
     ]
    },
    {
     "data": {
      "text/plain": [
       "'return value'"
      ]
     },
     "execution_count": 3,
     "metadata": {},
     "output_type": "execute_result"
    }
   ],
   "source": [
    "func = Function(foo, 'hello world', goodbye='moon')\n",
    "func()"
   ]
  },
  {
   "cell_type": "code",
   "execution_count": 4,
   "metadata": {
    "ExecuteTime": {
     "end_time": "2020-06-16T23:38:16.789021Z",
     "start_time": "2020-06-16T23:38:16.723393Z"
    }
   },
   "outputs": [
    {
     "name": "stdout",
     "output_type": "stream",
     "text": [
      "[<__main__.Function object at 0x7effff79ca20>]\n",
      "My args are ()\n",
      "My kwargs are {}\n"
     ]
    },
    {
     "data": {
      "text/plain": [
       "'return value'"
      ]
     },
     "execution_count": 4,
     "metadata": {},
     "output_type": "execute_result"
    }
   ],
   "source": [
    "parent = Parent()\n",
    "parent.functions = foo\n",
    "print(parent.functions)\n",
    "parent.functions[0]()"
   ]
  },
  {
   "cell_type": "code",
   "execution_count": 5,
   "metadata": {
    "ExecuteTime": {
     "end_time": "2020-06-16T23:38:16.866662Z",
     "start_time": "2020-06-16T23:38:16.792242Z"
    }
   },
   "outputs": [
    {
     "name": "stdout",
     "output_type": "stream",
     "text": [
      "[<__main__.Function object at 0x7effff79ce80>, <__main__.Function object at 0x7effff79cef0>]\n",
      "My args are ()\n",
      "My kwargs are {}\n"
     ]
    },
    {
     "data": {
      "text/plain": [
       "['return value', 'bar return value']"
      ]
     },
     "execution_count": 5,
     "metadata": {},
     "output_type": "execute_result"
    }
   ],
   "source": [
    "def bar():\n",
    "    return 'bar return value'\n",
    "\n",
    "parent.functions = [foo, bar]\n",
    "print(parent.functions)\n",
    "[f() for f in parent.functions]"
   ]
  },
  {
   "cell_type": "code",
   "execution_count": null,
   "metadata": {},
   "outputs": [],
   "source": []
  }
 ],
 "metadata": {
  "kernelspec": {
   "display_name": "Python 3",
   "language": "python",
   "name": "python3"
  },
  "language_info": {
   "codemirror_mode": {
    "name": "ipython",
    "version": 3
   },
   "file_extension": ".py",
   "mimetype": "text/x-python",
   "name": "python",
   "nbconvert_exporter": "python",
   "pygments_lexer": "ipython3",
   "version": "3.6.8"
  },
  "toc": {
   "base_numbering": 1,
   "nav_menu": {},
   "number_sections": true,
   "sideBar": true,
   "skip_h1_title": false,
   "title_cell": "Table of Contents",
   "title_sidebar": "Contents",
   "toc_cell": false,
   "toc_position": {},
   "toc_section_display": true,
   "toc_window_display": false
  },
  "varInspector": {
   "cols": {
    "lenName": 16,
    "lenType": 16,
    "lenVar": 40
   },
   "kernels_config": {
    "python": {
     "delete_cmd_postfix": "",
     "delete_cmd_prefix": "del ",
     "library": "var_list.py",
     "varRefreshCmd": "print(var_dic_list())"
    },
    "r": {
     "delete_cmd_postfix": ") ",
     "delete_cmd_prefix": "rm(",
     "library": "var_list.r",
     "varRefreshCmd": "cat(var_dic_list()) "
    }
   },
   "types_to_exclude": [
    "module",
    "function",
    "builtin_function_or_method",
    "instance",
    "_Feature"
   ],
   "window_display": false
  }
 },
 "nbformat": 4,
 "nbformat_minor": 4
}
