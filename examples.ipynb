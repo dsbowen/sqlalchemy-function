{
 "cells": [
  {
   "cell_type": "code",
   "execution_count": 1,
   "metadata": {
    "ExecuteTime": {
     "end_time": "2020-06-05T18:15:30.520377Z",
     "start_time": "2020-06-05T18:15:30.207491Z"
    }
   },
   "outputs": [],
   "source": [
    "from sqlalchemy_function import FunctionMixin, FunctionRelator\n",
    "\n",
    "# standard session creation\n",
    "from sqlalchemy import create_engine, Column, ForeignKey, Integer, String\n",
    "from sqlalchemy.orm import relationship, sessionmaker, scoped_session\n",
    "from sqlalchemy.ext.declarative import declarative_base\n",
    "from sqlalchemy.ext.orderinglist import ordering_list\n",
    "\n",
    "engine = create_engine('sqlite:///:memory:')\n",
    "session_factory = sessionmaker(bind=engine)\n",
    "Session = scoped_session(session_factory)\n",
    "session = Session()\n",
    "Base = declarative_base()\n",
    "\n",
    "# define a Function model parent\n",
    "class Parent(FunctionRelator, Base):\n",
    "    __tablename__ = 'parent'\n",
    "    id = Column(Integer, primary_key=True)\n",
    "\n",
    "    # Fuction models must reference their parent with a `parent` attribute\n",
    "    functions = relationship('Function', backref='parent')\n",
    "\n",
    "# define a Function model with the FunctionMixin\n",
    "class Function(FunctionMixin, Base):\n",
    "    __tablename__ = 'function'\n",
    "    id = Column(Integer, primary_key=True)\n",
    "    parent_id = Column(Integer, ForeignKey('parent.id'))\n",
    "\n",
    "Base.metadata.create_all(engine)"
   ]
  },
  {
   "cell_type": "code",
   "execution_count": 2,
   "metadata": {
    "ExecuteTime": {
     "end_time": "2020-06-05T18:15:30.526320Z",
     "start_time": "2020-06-05T18:15:30.522841Z"
    }
   },
   "outputs": [],
   "source": [
    "def foo(parent, *args, **kwargs):\n",
    "    print('My parent is', parent)\n",
    "    print('My args are', args)\n",
    "    print('My kwargs are', kwargs)\n",
    "    return 'return value'"
   ]
  },
  {
   "cell_type": "code",
   "execution_count": 3,
   "metadata": {
    "ExecuteTime": {
     "end_time": "2020-06-05T18:15:30.568681Z",
     "start_time": "2020-06-05T18:15:30.529238Z"
    }
   },
   "outputs": [
    {
     "name": "stdout",
     "output_type": "stream",
     "text": [
      "My parent is <__main__.Parent object at 0x7f8b4e7c9438>\n",
      "My args are ('hello world',)\n",
      "My kwargs are {'goodbye': 'moon'}\n"
     ]
    },
    {
     "data": {
      "text/plain": [
       "'return value'"
      ]
     },
     "execution_count": 3,
     "metadata": {},
     "output_type": "execute_result"
    }
   ],
   "source": [
    "parent = Parent()\n",
    "session.add(parent)\n",
    "session.commit()\n",
    "function = Function(\n",
    "    parent, func=foo, args=['hello world'], kwargs={'goodbye': 'moon'}\n",
    ")\n",
    "parent.functions[0]()"
   ]
  },
  {
   "cell_type": "code",
   "execution_count": 4,
   "metadata": {
    "ExecuteTime": {
     "end_time": "2020-06-05T18:15:30.587982Z",
     "start_time": "2020-06-05T18:15:30.571396Z"
    }
   },
   "outputs": [
    {
     "name": "stdout",
     "output_type": "stream",
     "text": [
      "My parent is <__main__.Parent object at 0x7f8b4d200518>\n",
      "My args are ('hello world',)\n",
      "My kwargs are {'goodbye': 'moon'}\n"
     ]
    },
    {
     "data": {
      "text/plain": [
       "'return value'"
      ]
     },
     "execution_count": 4,
     "metadata": {},
     "output_type": "execute_result"
    }
   ],
   "source": [
    "@Function.register\n",
    "def foo(parent, *args, **kwargs):\n",
    "    print('My parent is', parent)\n",
    "    print('My args are', args)\n",
    "    print('My kwargs are', kwargs)\n",
    "    return 'return value'\n",
    "\n",
    "parent = Parent()\n",
    "Function.foo(parent, 'hello world', goodbye='moon')\n",
    "parent.functions[0]()"
   ]
  },
  {
   "cell_type": "code",
   "execution_count": 5,
   "metadata": {
    "ExecuteTime": {
     "end_time": "2020-06-05T18:15:30.614805Z",
     "start_time": "2020-06-05T18:15:30.599750Z"
    }
   },
   "outputs": [
    {
     "name": "stdout",
     "output_type": "stream",
     "text": [
      "[<__main__.Function object at 0x7f8b4d1e84e0>]\n",
      "My parent is <__main__.Parent object at 0x7f8b4d200518>\n",
      "My args are ()\n",
      "My kwargs are {}\n"
     ]
    },
    {
     "data": {
      "text/plain": [
       "'return value'"
      ]
     },
     "execution_count": 5,
     "metadata": {},
     "output_type": "execute_result"
    }
   ],
   "source": [
    "parent.functions = foo\n",
    "print(parent.functions)\n",
    "parent.functions[0]()"
   ]
  },
  {
   "cell_type": "code",
   "execution_count": 6,
   "metadata": {
    "ExecuteTime": {
     "end_time": "2020-06-05T18:15:30.633701Z",
     "start_time": "2020-06-05T18:15:30.621473Z"
    }
   },
   "outputs": [
    {
     "name": "stdout",
     "output_type": "stream",
     "text": [
      "[<__main__.Function object at 0x7f8b4d2004e0>, <__main__.Function object at 0x7f8b4d2005f8>]\n",
      "My parent is <__main__.Parent object at 0x7f8b4d200518>\n",
      "My args are ()\n",
      "My kwargs are {}\n",
      "My parent is <__main__.Parent object at 0x7f8b4d200518>\n"
     ]
    },
    {
     "data": {
      "text/plain": [
       "['return value', 'bar return value']"
      ]
     },
     "execution_count": 6,
     "metadata": {},
     "output_type": "execute_result"
    }
   ],
   "source": [
    "def bar(parent):\n",
    "    print('My parent is', parent)\n",
    "    return 'bar return value'\n",
    "\n",
    "parent.functions = [foo, bar]\n",
    "print(parent.functions)\n",
    "[f() for f in parent.functions]"
   ]
  },
  {
   "cell_type": "code",
   "execution_count": null,
   "metadata": {},
   "outputs": [],
   "source": []
  }
 ],
 "metadata": {
  "kernelspec": {
   "display_name": "Python 3",
   "language": "python",
   "name": "python3"
  },
  "language_info": {
   "codemirror_mode": {
    "name": "ipython",
    "version": 3
   },
   "file_extension": ".py",
   "mimetype": "text/x-python",
   "name": "python",
   "nbconvert_exporter": "python",
   "pygments_lexer": "ipython3",
   "version": "3.6.8"
  },
  "toc": {
   "base_numbering": 1,
   "nav_menu": {},
   "number_sections": true,
   "sideBar": true,
   "skip_h1_title": false,
   "title_cell": "Table of Contents",
   "title_sidebar": "Contents",
   "toc_cell": false,
   "toc_position": {},
   "toc_section_display": true,
   "toc_window_display": false
  },
  "varInspector": {
   "cols": {
    "lenName": 16,
    "lenType": 16,
    "lenVar": 40
   },
   "kernels_config": {
    "python": {
     "delete_cmd_postfix": "",
     "delete_cmd_prefix": "del ",
     "library": "var_list.py",
     "varRefreshCmd": "print(var_dic_list())"
    },
    "r": {
     "delete_cmd_postfix": ") ",
     "delete_cmd_prefix": "rm(",
     "library": "var_list.r",
     "varRefreshCmd": "cat(var_dic_list()) "
    }
   },
   "types_to_exclude": [
    "module",
    "function",
    "builtin_function_or_method",
    "instance",
    "_Feature"
   ],
   "window_display": false
  }
 },
 "nbformat": 4,
 "nbformat_minor": 4
}
